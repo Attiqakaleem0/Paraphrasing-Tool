{
 "cells": [
  {
   "cell_type": "code",
   "execution_count": 4,
   "id": "e435cee1-7282-4e54-b502-f4046abfe8ad",
   "metadata": {},
   "outputs": [
    {
     "name": "stdout",
     "output_type": "stream",
     "text": [
      "WARNING:tensorflow:From C:\\Users\\Z\\anaconda3\\Lib\\site-packages\\keras\\src\\losses.py:2976: The name tf.losses.sparse_softmax_cross_entropy is deprecated. Please use tf.compat.v1.losses.sparse_softmax_cross_entropy instead.\n",
      "\n"
     ]
    }
   ],
   "source": [
    "from transformers import AutoTokenizer, AutoModelForSeq2SeqLM\n",
    "from transformers import pipeline\n",
    "import nltk\n",
    "from nltk.tokenize import sent_tokenize"
   ]
  },
  {
   "cell_type": "code",
   "execution_count": 5,
   "id": "5ff338d9-7a73-4e53-8000-1687c3fe4fe1",
   "metadata": {},
   "outputs": [
    {
     "name": "stderr",
     "output_type": "stream",
     "text": [
      "Some weights of PegasusForConditionalGeneration were not initialized from the model checkpoint at tuner007/pegasus_paraphrase and are newly initialized: ['model.encoder.embed_positions.weight', 'model.decoder.embed_positions.weight']\n",
      "You should probably TRAIN this model on a down-stream task to be able to use it for predictions and inference.\n"
     ]
    }
   ],
   "source": [
    "# Pegasus model and tokenizer loading:\n",
    "tokenizer = AutoTokenizer.from_pretrained(\"tuner007/pegasus_paraphrase\")\n",
    "model = AutoModelForSeq2SeqLM.from_pretrained(\"tuner007/pegasus_paraphrase\")\n",
    "\n",
    "  "
   ]
  },
  {
   "cell_type": "code",
   "execution_count": 6,
   "id": "de5cf709-8235-4e5c-995e-08a484a3a873",
   "metadata": {},
   "outputs": [],
   "source": [
    "# Text-to-text generation pipeline creation:\n",
    "nlp = pipeline('text2text-generation', model=model, tokenizer=tokenizer, truncation=True)\n",
    "\n"
   ]
  },
  {
   "cell_type": "code",
   "execution_count": 75,
   "id": "c810dae9-c633-4ccc-a6dd-17be1b1d9452",
   "metadata": {},
   "outputs": [
    {
     "name": "stdin",
     "output_type": "stream",
     "text": [
      "  After a slump in early idol music, from 2003, TVXQ and BoA started a new generation of K-pop idols that broke the music genre into the neighboring Japanese market and continue to popularize K-pop internationally today.[9][10] With the advent of online social networking services and South Korean TV shows, the current spread of K-pop and South Korean entertainment, known as the Korean Wave, is seen not only in East Asia and Southeast Asia, but also in Pakistan, Bangladesh, India, Latin America, North Africa, Southern Africa and East Africa, the Middle East, and throughout the Western world, gaining an international audience.  In 2018, K-pop experienced significant growth and became a \"power player\", marking a 17.9% increase in revenue growth. \n"
     ]
    }
   ],
   "source": [
    "text = input(\" \")\n"
   ]
  },
  {
   "cell_type": "code",
   "execution_count": 76,
   "id": "4d8879d1-611a-494d-8f0f-b9cbda077e55",
   "metadata": {},
   "outputs": [],
   "source": [
    "# Tokenization of the text into sentences:\n",
    "sentences = nltk.sent_tokenize(text)"
   ]
  },
  {
   "cell_type": "code",
   "execution_count": 77,
   "id": "a97b8a02-c2b6-4c38-b2d4-09ced25db6f3",
   "metadata": {},
   "outputs": [],
   "source": [
    "generated_texts = nlp(sentences)\n"
   ]
  },
  {
   "cell_type": "code",
   "execution_count": 78,
   "id": "7fe509ce-1a4f-4058-9c01-0566449a936b",
   "metadata": {},
   "outputs": [
    {
     "name": "stdout",
     "output_type": "stream",
     "text": [
      "['TVXQ and BoA started a new generation of K-pop idols that broke the music genre into the neighboring Japanese market and continue to popularize K-pop internationally today.', 'K-pop and South Korean entertainment, known as the Korean Wave, is seen not only in East Asia and Southeast Asia, but also in Pakistan, Bangladesh, India, Latin America.', 'K-pop experienced significant growth and became a \"power player\".']\n"
     ]
    }
   ],
   "source": [
    "paraphrased_sentences = []\n",
    "\n",
    "for sentence in range(len(generated_texts)):\n",
    "    paraphrased_sentence = generated_texts [sentence]['generated_text']\n",
    "    paraphrased_sentences.append (paraphrased_sentence)\n",
    "\n",
    "print (paraphrased_sentences)\n",
    "    "
   ]
  },
  {
   "cell_type": "code",
   "execution_count": 79,
   "id": "f262c552-a143-4e8c-b7da-de65ef3caaa6",
   "metadata": {},
   "outputs": [
    {
     "name": "stdout",
     "output_type": "stream",
     "text": [
      "\n",
      "Paraphrased Sentences:\n",
      "Original: After a slump in early idol music, from 2003, TVXQ and BoA started a new generation of K-pop idols that broke the music genre into the neighboring Japanese market and continue to popularize K-pop internationally today.\n",
      "Paraphrased: TVXQ and BoA started a new generation of K-pop idols that broke the music genre into the neighboring Japanese market and continue to popularize K-pop internationally today.\n",
      "\n",
      "Original: [9][10] With the advent of online social networking services and South Korean TV shows, the current spread of K-pop and South Korean entertainment, known as the Korean Wave, is seen not only in East Asia and Southeast Asia, but also in Pakistan, Bangladesh, India, Latin America, North Africa, Southern Africa and East Africa, the Middle East, and throughout the Western world, gaining an international audience.\n",
      "Paraphrased: K-pop and South Korean entertainment, known as the Korean Wave, is seen not only in East Asia and Southeast Asia, but also in Pakistan, Bangladesh, India, Latin America.\n",
      "\n",
      "Original: In 2018, K-pop experienced significant growth and became a \"power player\", marking a 17.9% increase in revenue growth.\n",
      "Paraphrased: K-pop experienced significant growth and became a \"power player\".\n",
      "\n"
     ]
    }
   ],
   "source": [
    "print(\"\\nParaphrased Sentences:\")\n",
    "for i, paraphrase in enumerate(paraphrased_sentences):\n",
    "    print(f\"Original: {sentences[i]}\\nParaphrased: {paraphrase}\\n\")\n"
   ]
  },
  {
   "cell_type": "code",
   "execution_count": null,
   "id": "34705f76-dbd4-4da5-8715-00b0010875a7",
   "metadata": {},
   "outputs": [],
   "source": []
  }
 ],
 "metadata": {
  "kernelspec": {
   "display_name": "Python 3 (ipykernel)",
   "language": "python",
   "name": "python3"
  },
  "language_info": {
   "codemirror_mode": {
    "name": "ipython",
    "version": 3
   },
   "file_extension": ".py",
   "mimetype": "text/x-python",
   "name": "python",
   "nbconvert_exporter": "python",
   "pygments_lexer": "ipython3",
   "version": "3.11.5"
  }
 },
 "nbformat": 4,
 "nbformat_minor": 5
}
